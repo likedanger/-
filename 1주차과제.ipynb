{
  "nbformat": 4,
  "nbformat_minor": 0,
  "metadata": {
    "colab": {
      "name": "1주차과제.ipynb",
      "provenance": [],
      "authorship_tag": "ABX9TyOOPOH4AzadSrmjlfrIk3Xo",
      "include_colab_link": true
    },
    "kernelspec": {
      "name": "python3",
      "display_name": "Python 3"
    }
  },
  "cells": [
    {
      "cell_type": "markdown",
      "metadata": {
        "id": "view-in-github",
        "colab_type": "text"
      },
      "source": [
        "<a href=\"https://colab.research.google.com/github/likedanger/AIschool/blob/master/1%EC%A3%BC%EC%B0%A8%EA%B3%BC%EC%A0%9C.ipynb\" target=\"_parent\"><img src=\"https://colab.research.google.com/assets/colab-badge.svg\" alt=\"Open In Colab\"/></a>"
      ]
    },
    {
      "cell_type": "markdown",
      "metadata": {
        "id": "tQWpAbfojAUB",
        "colab_type": "text"
      },
      "source": [
        "##인공지능 사관학교 프리코스 과제 목차"
      ]
    },
    {
      "cell_type": "markdown",
      "metadata": {
        "id": "gH-nX_UEjHLy",
        "colab_type": "text"
      },
      "source": [
        "##1주차 과제 (2020.05.21)"
      ]
    },
    {
      "cell_type": "markdown",
      "metadata": {
        "id": "NkoCn3mHjaSU",
        "colab_type": "text"
      },
      "source": [
        "## 언어를 이용한 제품 및 서비스\n",
        "\n",
        "###번역기 등\n",
        "\n",
        "## 음성을 이용한 제품 및 서비스\n",
        "### 인공지능 스피커, 음성 인식 등\n",
        "\n",
        "## 이미지를 이용한 제품 및 서비스\n",
        "### 이미지 분류, 이미지 검색 등\n",
        "\n",
        "##자율주행을 이용한 제품 및 서비스\n",
        "### 테슬라 자율주행 자동차"
      ]
    },
    {
      "cell_type": "code",
      "metadata": {
        "id": "BlnQLJK0jlYP",
        "colab_type": "code",
        "colab": {}
      },
      "source": [
        ""
      ],
      "execution_count": 0,
      "outputs": []
    }
  ]
}